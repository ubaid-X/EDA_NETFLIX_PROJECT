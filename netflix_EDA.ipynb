{
 "cells": [
  {
   "cell_type": "markdown",
   "id": "83c5c959",
   "metadata": {},
   "source": [
    "---\n",
    "\n",
    "# **1.0 About Author**\n",
    "- __Project:__ EDA On Netflix Dataset\n",
    "- __Author name:__ UBAIDULLAH\n",
    "\n",
    "- Author's Contact Info:\n",
    "\n",
    "- __Email:__ [ai.bussiness.student0@gmail.com](mailto:ai.bussiness.student0@gmail.com)\n",
    "\n",
    "- __GitHub:__ [github.com/ubaid-X/](https://github.com/ubaid-X/)\n",
    "\n",
    "- __LinkedIn Profile:__ [linkedin.com/in/ubaid-ullah-634563373/](https://www.linkedin.com/in/ubaid-ullah-634563373/)\n",
    "\n",
    "- __Kaggle:__ [kaggle.com/ubaidullah01](https://www.kaggle.com/ubaidullah01)\n",
    "\n",
    "---\n"
   ]
  },
  {
   "cell_type": "markdown",
   "id": "98e07664",
   "metadata": {},
   "source": [
    "# __2.0 About Netflix__\n",
    "\n",
    "Netflix is a leading global streaming services offering a wide variety of TV shows, movies, documentries and more across numerous genres and languages. As of mid-2021, Netflix had over 222 million subscribers worldwide, providing content in over 190 countries.\n",
    "\n",
    "---"
   ]
  },
  {
   "cell_type": "markdown",
   "id": "bbaa7aa7",
   "metadata": {},
   "source": [
    "# __3.0 About The Dataset__\n",
    "- __Source:__ [Netflix dataset on Github](https://github.com/Rashipotey/Netflix-Data-Analysis)\n",
    "- __Size:__ Approximately `9,827 rows`\n",
    "- __Features:__ Includes details such as `Released Date`, `Title`, `Overview`, `Popularity`, `Vote_Count`, `Vote_Average`, `Original_Language`, `Genre` and `Poster_Url`\n",
    "  \n",
    "# __3.1 TASK__\n",
    "The task of this project is to perform Exploratory Data Analysis (EDA) and Data Preprocessing on a dataset (e.g., Netflix dataset). The goal is to understand the data, clean it for any issues like missing or incorrect values, and prepare it for analysis. After the preprocessing is complete, I will develop and answer five key analytical questions using visualizations such as bar charts, pie charts, line graphs, and more to find useful patterns and insights.\n",
    "\n",
    "# __3.2 OBJECTIVES__\n",
    "The main objective is to explore the dataset and identify important trends, patterns, or issues within the data. First, I will understand the structure of the dataset, including the types of data in each column and the presence of any null or duplicate values. Then, I will clean and preprocess the data to make it usable. After that, I will use different visualization techniques to explore the data further and answer five targeted questions. These insights can help in understanding user behavior, content trends, or any other useful business-related outcomes. The final goal is to communicate the findings clearly with meaningful visuals and short explanations.\n",
    "\n",
    "# __3.3 kernel Version Used__\n",
    "__Python:__ `3.13.2`\n",
    "\n",
    "---"
   ]
  },
  {
   "cell_type": "markdown",
   "id": "82335f2c",
   "metadata": {},
   "source": [
    "# __4.0 Importing Libraries__\n",
    "We will use the following libraries:\n",
    "\n",
    "1. __Pandas:__ Data manipulation and analysis library.\n",
    "2. __Numpy:__ Numerical computing library.\n",
    "3. __Matplotlib:__ Data visualization library.\n",
    "4. __Seaborn:__ Statistical data visualization library.\n",
    "5. __Plotly:__ For Interactive data visualization library."
   ]
  },
  {
   "cell_type": "code",
   "execution_count": 1,
   "id": "97afe3fb",
   "metadata": {},
   "outputs": [],
   "source": [
    "import pandas as pd\n",
    "import numpy as np\n",
    "import matplotlib.pyplot as plt\n",
    "%matplotlib inline\n",
    "import seaborn as sns\n",
    "import plotly.express as px"
   ]
  },
  {
   "cell_type": "markdown",
   "id": "b5fd93a5",
   "metadata": {},
   "source": [
    "---\n",
    "\n",
    "# __5.0 Data Loading, Exploration and Wrangling__\n",
    "\n",
    "4.1 Loading dataset\n",
    "\n",
    "4.2 Creating DataFrame and understanding the Dataset\n",
    "\n",
    "4.3 Data Cleaning and Preprocessing and handling Outliers"
   ]
  },
  {
   "cell_type": "code",
   "execution_count": 2,
   "id": "4e1e0372",
   "metadata": {},
   "outputs": [],
   "source": [
    "df = pd.read_csv('Netflix_Dataset.csv', lineterminator = '\\n')"
   ]
  },
  {
   "cell_type": "code",
   "execution_count": 3,
   "id": "8a9c34be",
   "metadata": {},
   "outputs": [],
   "source": [
    "# this will display all rows and columns\n",
    "pd.set_option('display.max.columns', None)\n",
    "pd.set_option('display.max.rows', None)"
   ]
  },
  {
   "cell_type": "code",
   "execution_count": 4,
   "id": "14bdc211",
   "metadata": {},
   "outputs": [],
   "source": [
    "# Hide all runtime Error => unnecessory\n",
    "import warnings\n",
    "warnings.filterwarnings('ignore')"
   ]
  },
  {
   "cell_type": "markdown",
   "id": "12a98945",
   "metadata": {},
   "source": [
    "- let's take a look on Data"
   ]
  },
  {
   "cell_type": "code",
   "execution_count": 5,
   "id": "f14f34e6",
   "metadata": {},
   "outputs": [
    {
     "name": "stdout",
     "output_type": "stream",
     "text": [
      "<class 'pandas.core.frame.DataFrame'>\n",
      "RangeIndex: 9827 entries, 0 to 9826\n",
      "Data columns (total 9 columns):\n",
      " #   Column             Non-Null Count  Dtype  \n",
      "---  ------             --------------  -----  \n",
      " 0   Release_Date       9827 non-null   object \n",
      " 1   Title              9827 non-null   object \n",
      " 2   Overview           9827 non-null   object \n",
      " 3   Popularity         9827 non-null   float64\n",
      " 4   Vote_Count         9827 non-null   int64  \n",
      " 5   Vote_Average       9827 non-null   float64\n",
      " 6   Original_Language  9827 non-null   object \n",
      " 7   Genre              9827 non-null   object \n",
      " 8   Poster_Url         9827 non-null   object \n",
      "dtypes: float64(2), int64(1), object(6)\n",
      "memory usage: 691.1+ KB\n"
     ]
    }
   ],
   "source": [
    "df.info()"
   ]
  },
  {
   "cell_type": "code",
   "execution_count": 6,
   "id": "9080085e",
   "metadata": {},
   "outputs": [
    {
     "data": {
      "text/html": [
       "<div>\n",
       "<style scoped>\n",
       "    .dataframe tbody tr th:only-of-type {\n",
       "        vertical-align: middle;\n",
       "    }\n",
       "\n",
       "    .dataframe tbody tr th {\n",
       "        vertical-align: top;\n",
       "    }\n",
       "\n",
       "    .dataframe thead th {\n",
       "        text-align: right;\n",
       "    }\n",
       "</style>\n",
       "<table border=\"1\" class=\"dataframe\">\n",
       "  <thead>\n",
       "    <tr style=\"text-align: right;\">\n",
       "      <th></th>\n",
       "      <th>Release_Date</th>\n",
       "      <th>Title</th>\n",
       "      <th>Overview</th>\n",
       "      <th>Popularity</th>\n",
       "      <th>Vote_Count</th>\n",
       "      <th>Vote_Average</th>\n",
       "      <th>Original_Language</th>\n",
       "      <th>Genre</th>\n",
       "      <th>Poster_Url</th>\n",
       "    </tr>\n",
       "  </thead>\n",
       "  <tbody>\n",
       "    <tr>\n",
       "      <th>0</th>\n",
       "      <td>2021-12-15</td>\n",
       "      <td>Spider-Man: No Way Home</td>\n",
       "      <td>Peter Parker is unmasked and no longer able to...</td>\n",
       "      <td>5083.954</td>\n",
       "      <td>8940</td>\n",
       "      <td>8.3</td>\n",
       "      <td>en</td>\n",
       "      <td>Action, Adventure, Science Fiction</td>\n",
       "      <td>https://image.tmdb.org/t/p/original/1g0dhYtq4i...</td>\n",
       "    </tr>\n",
       "    <tr>\n",
       "      <th>1</th>\n",
       "      <td>2022-03-01</td>\n",
       "      <td>The Batman</td>\n",
       "      <td>In his second year of fighting crime, Batman u...</td>\n",
       "      <td>3827.658</td>\n",
       "      <td>1151</td>\n",
       "      <td>8.1</td>\n",
       "      <td>en</td>\n",
       "      <td>Crime, Mystery, Thriller</td>\n",
       "      <td>https://image.tmdb.org/t/p/original/74xTEgt7R3...</td>\n",
       "    </tr>\n",
       "    <tr>\n",
       "      <th>2</th>\n",
       "      <td>2022-02-25</td>\n",
       "      <td>No Exit</td>\n",
       "      <td>Stranded at a rest stop in the mountains durin...</td>\n",
       "      <td>2618.087</td>\n",
       "      <td>122</td>\n",
       "      <td>6.3</td>\n",
       "      <td>en</td>\n",
       "      <td>Thriller</td>\n",
       "      <td>https://image.tmdb.org/t/p/original/vDHsLnOWKl...</td>\n",
       "    </tr>\n",
       "    <tr>\n",
       "      <th>3</th>\n",
       "      <td>2021-11-24</td>\n",
       "      <td>Encanto</td>\n",
       "      <td>The tale of an extraordinary family, the Madri...</td>\n",
       "      <td>2402.201</td>\n",
       "      <td>5076</td>\n",
       "      <td>7.7</td>\n",
       "      <td>en</td>\n",
       "      <td>Animation, Comedy, Family, Fantasy</td>\n",
       "      <td>https://image.tmdb.org/t/p/original/4j0PNHkMr5...</td>\n",
       "    </tr>\n",
       "    <tr>\n",
       "      <th>4</th>\n",
       "      <td>2021-12-22</td>\n",
       "      <td>The King's Man</td>\n",
       "      <td>As a collection of history's worst tyrants and...</td>\n",
       "      <td>1895.511</td>\n",
       "      <td>1793</td>\n",
       "      <td>7.0</td>\n",
       "      <td>en</td>\n",
       "      <td>Action, Adventure, Thriller, War</td>\n",
       "      <td>https://image.tmdb.org/t/p/original/aq4Pwv5Xeu...</td>\n",
       "    </tr>\n",
       "  </tbody>\n",
       "</table>\n",
       "</div>"
      ],
      "text/plain": [
       "  Release_Date                    Title  \\\n",
       "0   2021-12-15  Spider-Man: No Way Home   \n",
       "1   2022-03-01               The Batman   \n",
       "2   2022-02-25                  No Exit   \n",
       "3   2021-11-24                  Encanto   \n",
       "4   2021-12-22           The King's Man   \n",
       "\n",
       "                                            Overview  Popularity  Vote_Count  \\\n",
       "0  Peter Parker is unmasked and no longer able to...    5083.954        8940   \n",
       "1  In his second year of fighting crime, Batman u...    3827.658        1151   \n",
       "2  Stranded at a rest stop in the mountains durin...    2618.087         122   \n",
       "3  The tale of an extraordinary family, the Madri...    2402.201        5076   \n",
       "4  As a collection of history's worst tyrants and...    1895.511        1793   \n",
       "\n",
       "   Vote_Average Original_Language                               Genre  \\\n",
       "0           8.3                en  Action, Adventure, Science Fiction   \n",
       "1           8.1                en            Crime, Mystery, Thriller   \n",
       "2           6.3                en                            Thriller   \n",
       "3           7.7                en  Animation, Comedy, Family, Fantasy   \n",
       "4           7.0                en    Action, Adventure, Thriller, War   \n",
       "\n",
       "                                          Poster_Url  \n",
       "0  https://image.tmdb.org/t/p/original/1g0dhYtq4i...  \n",
       "1  https://image.tmdb.org/t/p/original/74xTEgt7R3...  \n",
       "2  https://image.tmdb.org/t/p/original/vDHsLnOWKl...  \n",
       "3  https://image.tmdb.org/t/p/original/4j0PNHkMr5...  \n",
       "4  https://image.tmdb.org/t/p/original/aq4Pwv5Xeu...  "
      ]
     },
     "execution_count": 6,
     "metadata": {},
     "output_type": "execute_result"
    }
   ],
   "source": [
    "df.head()"
   ]
  },
  {
   "cell_type": "code",
   "execution_count": 7,
   "id": "b48358d6",
   "metadata": {},
   "outputs": [
    {
     "data": {
      "text/plain": [
       "Index(['Release_Date', 'Title', 'Overview', 'Popularity', 'Vote_Count',\n",
       "       'Vote_Average', 'Original_Language', 'Genre', 'Poster_Url'],\n",
       "      dtype='object')"
      ]
     },
     "execution_count": 7,
     "metadata": {},
     "output_type": "execute_result"
    }
   ],
   "source": [
    "df.columns"
   ]
  },
  {
   "cell_type": "code",
   "execution_count": 8,
   "id": "d4f8fc09",
   "metadata": {},
   "outputs": [
    {
     "data": {
      "text/html": [
       "<div>\n",
       "<style scoped>\n",
       "    .dataframe tbody tr th:only-of-type {\n",
       "        vertical-align: middle;\n",
       "    }\n",
       "\n",
       "    .dataframe tbody tr th {\n",
       "        vertical-align: top;\n",
       "    }\n",
       "\n",
       "    .dataframe thead th {\n",
       "        text-align: right;\n",
       "    }\n",
       "</style>\n",
       "<table border=\"1\" class=\"dataframe\">\n",
       "  <thead>\n",
       "    <tr style=\"text-align: right;\">\n",
       "      <th></th>\n",
       "      <th>count</th>\n",
       "      <th>mean</th>\n",
       "      <th>std</th>\n",
       "      <th>min</th>\n",
       "      <th>25%</th>\n",
       "      <th>50%</th>\n",
       "      <th>75%</th>\n",
       "      <th>max</th>\n",
       "    </tr>\n",
       "  </thead>\n",
       "  <tbody>\n",
       "    <tr>\n",
       "      <th>Popularity</th>\n",
       "      <td>9827.0</td>\n",
       "      <td>40.326088</td>\n",
       "      <td>108.873998</td>\n",
       "      <td>13.354</td>\n",
       "      <td>16.1285</td>\n",
       "      <td>21.199</td>\n",
       "      <td>35.1915</td>\n",
       "      <td>5083.954</td>\n",
       "    </tr>\n",
       "    <tr>\n",
       "      <th>Vote_Count</th>\n",
       "      <td>9827.0</td>\n",
       "      <td>1392.805536</td>\n",
       "      <td>2611.206907</td>\n",
       "      <td>0.000</td>\n",
       "      <td>146.0000</td>\n",
       "      <td>444.000</td>\n",
       "      <td>1376.0000</td>\n",
       "      <td>31077.000</td>\n",
       "    </tr>\n",
       "    <tr>\n",
       "      <th>Vote_Average</th>\n",
       "      <td>9827.0</td>\n",
       "      <td>6.439534</td>\n",
       "      <td>1.129759</td>\n",
       "      <td>0.000</td>\n",
       "      <td>5.9000</td>\n",
       "      <td>6.500</td>\n",
       "      <td>7.1000</td>\n",
       "      <td>10.000</td>\n",
       "    </tr>\n",
       "  </tbody>\n",
       "</table>\n",
       "</div>"
      ],
      "text/plain": [
       "               count         mean          std     min       25%      50%  \\\n",
       "Popularity    9827.0    40.326088   108.873998  13.354   16.1285   21.199   \n",
       "Vote_Count    9827.0  1392.805536  2611.206907   0.000  146.0000  444.000   \n",
       "Vote_Average  9827.0     6.439534     1.129759   0.000    5.9000    6.500   \n",
       "\n",
       "                    75%        max  \n",
       "Popularity      35.1915   5083.954  \n",
       "Vote_Count    1376.0000  31077.000  \n",
       "Vote_Average     7.1000     10.000  "
      ]
     },
     "execution_count": 8,
     "metadata": {},
     "output_type": "execute_result"
    }
   ],
   "source": [
    "df.describe().T"
   ]
  },
  {
   "cell_type": "markdown",
   "id": "ad37b94c",
   "metadata": {},
   "source": [
    "### __Observation set 1:__\n",
    "- We have `9827` rows and `9` columns.\n",
    "- columns are: `Release_Date`, `Title`, `Overview`, `Popularity`, `Vote_Count`,\n",
    "       `Vote_Average`, `Original_Language`, `Genre`, `Poster_Url`.\n",
    "- The min Popularity is `13.354`, max is  `5083.954` and the mean is `40.326088`.\n",
    "- The minimum Vote is given to any tv shows is `0`, maximum is `31077.000` and mean is `1392.805536`\n",
    "- We will change data type of `Release_Date` from object to Dat-Time format.\n",
    "- We will drop some columns: `Overview`, `Poster_Url`. It is not necessory for our Analysis because we have assigned goal.\n",
    "- we will check for null values and duplicates values. \n"
   ]
  },
  {
   "cell_type": "code",
   "execution_count": 9,
   "id": "592ca756",
   "metadata": {},
   "outputs": [
    {
     "data": {
      "text/plain": [
       "Release_Date         0\n",
       "Title                0\n",
       "Overview             0\n",
       "Popularity           0\n",
       "Vote_Count           0\n",
       "Vote_Average         0\n",
       "Original_Language    0\n",
       "Genre                0\n",
       "Poster_Url           0\n",
       "dtype: int64"
      ]
     },
     "execution_count": 9,
     "metadata": {},
     "output_type": "execute_result"
    }
   ],
   "source": [
    "df.isnull().sum().sort_values(ascending=False)"
   ]
  },
  {
   "cell_type": "markdown",
   "id": "d20757fe",
   "metadata": {},
   "source": [
    "\n",
    "- __we have no null  values, we are good to go...__"
   ]
  },
  {
   "cell_type": "code",
   "execution_count": 10,
   "id": "3afae772",
   "metadata": {},
   "outputs": [
    {
     "data": {
      "text/plain": [
       "Index(['Release_Date', 'Title', 'Overview', 'Popularity', 'Vote_Count',\n",
       "       'Vote_Average', 'Original_Language', 'Genre', 'Poster_Url'],\n",
       "      dtype='object')"
      ]
     },
     "execution_count": 10,
     "metadata": {},
     "output_type": "execute_result"
    }
   ],
   "source": [
    "df.columns"
   ]
  },
  {
   "cell_type": "code",
   "execution_count": 11,
   "id": "6e0f7959",
   "metadata": {},
   "outputs": [],
   "source": [
    "# droping columns\n",
    "cols = ['Overview', 'Poster_Url']\n",
    "df.drop(cols, axis=1, inplace=True)"
   ]
  },
  {
   "cell_type": "code",
   "execution_count": 12,
   "id": "d6da4112",
   "metadata": {},
   "outputs": [
    {
     "data": {
      "text/plain": [
       "Index(['Release_Date', 'Title', 'Popularity', 'Vote_Count', 'Vote_Average',\n",
       "       'Original_Language', 'Genre'],\n",
       "      dtype='object')"
      ]
     },
     "execution_count": 12,
     "metadata": {},
     "output_type": "execute_result"
    }
   ],
   "source": [
    "df.columns"
   ]
  },
  {
   "cell_type": "markdown",
   "id": "4d0686a3",
   "metadata": {},
   "source": [
    "- __columns are droped__"
   ]
  },
  {
   "cell_type": "code",
   "execution_count": 13,
   "id": "f30d71d0",
   "metadata": {},
   "outputs": [
    {
     "name": "stdout",
     "output_type": "stream",
     "text": [
      "datetime64[ns]\n"
     ]
    },
    {
     "data": {
      "text/plain": [
       "dtype('int32')"
      ]
     },
     "execution_count": 13,
     "metadata": {},
     "output_type": "execute_result"
    }
   ],
   "source": [
    "# Now changing format of 'Release_Date'\n",
    "df['Release_Date'] = pd.to_datetime(df['Release_Date'])\n",
    "print(df['Release_Date'].dtypes)\n",
    "df['Release_Date'] = df['Release_Date'].dt.year # because we need only Year not the days or months\n",
    "df['Release_Date'].dtype"
   ]
  },
  {
   "cell_type": "code",
   "execution_count": 14,
   "id": "17663aa5",
   "metadata": {},
   "outputs": [
    {
     "data": {
      "text/plain": [
       "np.int64(0)"
      ]
     },
     "execution_count": 14,
     "metadata": {},
     "output_type": "execute_result"
    }
   ],
   "source": [
    "# checking for duplicates\n",
    "df.duplicated().sum()"
   ]
  },
  {
   "cell_type": "markdown",
   "id": "12302ab7",
   "metadata": {},
   "source": [
    "- __We have no Duplicated values, Now we are going forward...__\n"
   ]
  },
  {
   "cell_type": "markdown",
   "id": "6ed25412",
   "metadata": {},
   "source": [
    "### __Observation Set 2:__\n",
    "> Categorizing Vote-Average column\n",
    "\n",
    "- we will cut the values and make 4 categories: `popular`, `average`, `below_avg`, `not_popular`"
   ]
  },
  {
   "cell_type": "code",
   "execution_count": 15,
   "id": "54a31882",
   "metadata": {},
   "outputs": [],
   "source": [
    "def categorize_col (df, col, labels):\n",
    "    \"\"\"\n",
    "    categorizes a certain column based on its quartiles\n",
    "   \n",
    "    Args:\n",
    "        (df)     df   - dataframe we are proccesing\n",
    "        (col)    str  - to be catigorized column's name \n",
    "        (labels) list - list of labels from min to max\n",
    "    \n",
    "    Returns:\n",
    "        (df)     df   - dataframe with the categorized col\n",
    "    \"\"\"\n",
    "    \n",
    "    # setting the edges to cut the column accordingly\n",
    "    edges = [df[col].describe()['min'],\n",
    "             df[col].describe()['25%'],\n",
    "             df[col].describe()['50%'],\n",
    "             df[col].describe()['75%'],\n",
    "             df[col].describe()['max']]\n",
    "    df[col] = pd.cut(df[col], edges, labels = labels, duplicates='drop')\n",
    "    return df"
   ]
  },
  {
   "cell_type": "code",
   "execution_count": 16,
   "id": "ad459d97",
   "metadata": {},
   "outputs": [
    {
     "data": {
      "text/plain": [
       "['Popular', 'Below_Avg', 'Average', 'Not_Popular', NaN]\n",
       "Categories (4, object): ['Not_Popular' < 'Below_Avg' < 'Average' < 'Popular']"
      ]
     },
     "execution_count": 16,
     "metadata": {},
     "output_type": "execute_result"
    }
   ],
   "source": [
    "# define labels base on edges\n",
    "labels = ['Not_Popular', 'Below_Avg', 'Average', 'Popular']\n",
    "# calling categorize_col function\n",
    "categorize_col(df, 'Vote_Average', labels)\n",
    "# let's look on changes\n",
    "df['Vote_Average'].unique()"
   ]
  },
  {
   "cell_type": "code",
   "execution_count": 17,
   "id": "7abc1ca0",
   "metadata": {},
   "outputs": [
    {
     "data": {
      "text/plain": [
       "np.int64(100)"
      ]
     },
     "execution_count": 17,
     "metadata": {},
     "output_type": "execute_result"
    }
   ],
   "source": [
    "# looking for null values in specific column\n",
    "df['Vote_Average'].isnull().sum()"
   ]
  },
  {
   "cell_type": "code",
   "execution_count": 18,
   "id": "673ebf58",
   "metadata": {},
   "outputs": [
    {
     "data": {
      "text/plain": [
       "np.float64(1.0176045588684237)"
      ]
     },
     "execution_count": 18,
     "metadata": {},
     "output_type": "execute_result"
    }
   ],
   "source": [
    "# it will give the percentage of null values\n",
    "(df['Vote_Average'].isnull().sum() / len(df['Vote_Average'])) * 100"
   ]
  },
  {
   "cell_type": "code",
   "execution_count": 19,
   "id": "3657dd17",
   "metadata": {},
   "outputs": [
    {
     "data": {
      "text/plain": [
       "np.int64(0)"
      ]
     },
     "execution_count": 19,
     "metadata": {},
     "output_type": "execute_result"
    }
   ],
   "source": [
    "df['Vote_Count'].isnull().sum()"
   ]
  },
  {
   "cell_type": "code",
   "execution_count": 20,
   "id": "cff7213c",
   "metadata": {},
   "outputs": [
    {
     "data": {
      "text/plain": [
       "np.int64(0)"
      ]
     },
     "execution_count": 20,
     "metadata": {},
     "output_type": "execute_result"
    }
   ],
   "source": [
    "df['Original_Language'].isnull().sum()"
   ]
  },
  {
   "cell_type": "code",
   "execution_count": 21,
   "id": "25a8b82c",
   "metadata": {},
   "outputs": [
    {
     "data": {
      "text/plain": [
       "np.int64(0)"
      ]
     },
     "execution_count": 21,
     "metadata": {},
     "output_type": "execute_result"
    }
   ],
   "source": [
    "df['Genre'].isnull().sum()"
   ]
  },
  {
   "cell_type": "code",
   "execution_count": 22,
   "id": "9034bae8",
   "metadata": {},
   "outputs": [
    {
     "data": {
      "text/plain": [
       "np.int64(0)"
      ]
     },
     "execution_count": 22,
     "metadata": {},
     "output_type": "execute_result"
    }
   ],
   "source": [
    "df['Popularity'].isnull().sum()\n"
   ]
  },
  {
   "cell_type": "code",
   "execution_count": 23,
   "id": "71189aa8",
   "metadata": {},
   "outputs": [
    {
     "data": {
      "text/plain": [
       "np.int64(0)"
      ]
     },
     "execution_count": 23,
     "metadata": {},
     "output_type": "execute_result"
    }
   ],
   "source": [
    "df['Release_Date'].isnull().sum()"
   ]
  },
  {
   "cell_type": "code",
   "execution_count": 24,
   "id": "f3a59a51",
   "metadata": {},
   "outputs": [
    {
     "data": {
      "text/plain": [
       "np.int64(0)"
      ]
     },
     "execution_count": 24,
     "metadata": {},
     "output_type": "execute_result"
    }
   ],
   "source": [
    "df['Title'].isnull().sum()"
   ]
  },
  {
   "cell_type": "markdown",
   "id": "5bc4dfe3",
   "metadata": {},
   "source": [
    "### __Observation set 3:__\n",
    "- We have only `100` null values in Vote_Avg column and their percentage is `1.02%`, so we will drop the null values in dataset"
   ]
  },
  {
   "cell_type": "code",
   "execution_count": 25,
   "id": "3e733bc1",
   "metadata": {},
   "outputs": [],
   "source": [
    "df = df.dropna(subset=['Vote_Average'])"
   ]
  },
  {
   "cell_type": "code",
   "execution_count": 26,
   "id": "0c6e100c",
   "metadata": {},
   "outputs": [
    {
     "data": {
      "text/plain": [
       "np.int64(0)"
      ]
     },
     "execution_count": 26,
     "metadata": {},
     "output_type": "execute_result"
    }
   ],
   "source": [
    "df['Vote_Average'].isnull().sum()"
   ]
  },
  {
   "cell_type": "markdown",
   "id": "6b4473ec",
   "metadata": {},
   "source": [
    "- Now we have no null values, we are good to go..."
   ]
  },
  {
   "cell_type": "code",
   "execution_count": 27,
   "id": "b2491e8f",
   "metadata": {},
   "outputs": [
    {
     "data": {
      "text/html": [
       "<div>\n",
       "<style scoped>\n",
       "    .dataframe tbody tr th:only-of-type {\n",
       "        vertical-align: middle;\n",
       "    }\n",
       "\n",
       "    .dataframe tbody tr th {\n",
       "        vertical-align: top;\n",
       "    }\n",
       "\n",
       "    .dataframe thead th {\n",
       "        text-align: right;\n",
       "    }\n",
       "</style>\n",
       "<table border=\"1\" class=\"dataframe\">\n",
       "  <thead>\n",
       "    <tr style=\"text-align: right;\">\n",
       "      <th></th>\n",
       "      <th>Release_Date</th>\n",
       "      <th>Title</th>\n",
       "      <th>Popularity</th>\n",
       "      <th>Vote_Count</th>\n",
       "      <th>Vote_Average</th>\n",
       "      <th>Original_Language</th>\n",
       "      <th>Genre</th>\n",
       "    </tr>\n",
       "  </thead>\n",
       "  <tbody>\n",
       "    <tr>\n",
       "      <th>0</th>\n",
       "      <td>2021</td>\n",
       "      <td>Spider-Man: No Way Home</td>\n",
       "      <td>5083.954</td>\n",
       "      <td>8940</td>\n",
       "      <td>Popular</td>\n",
       "      <td>en</td>\n",
       "      <td>Action, Adventure, Science Fiction</td>\n",
       "    </tr>\n",
       "    <tr>\n",
       "      <th>1</th>\n",
       "      <td>2022</td>\n",
       "      <td>The Batman</td>\n",
       "      <td>3827.658</td>\n",
       "      <td>1151</td>\n",
       "      <td>Popular</td>\n",
       "      <td>en</td>\n",
       "      <td>Crime, Mystery, Thriller</td>\n",
       "    </tr>\n",
       "    <tr>\n",
       "      <th>2</th>\n",
       "      <td>2022</td>\n",
       "      <td>No Exit</td>\n",
       "      <td>2618.087</td>\n",
       "      <td>122</td>\n",
       "      <td>Below_Avg</td>\n",
       "      <td>en</td>\n",
       "      <td>Thriller</td>\n",
       "    </tr>\n",
       "    <tr>\n",
       "      <th>3</th>\n",
       "      <td>2021</td>\n",
       "      <td>Encanto</td>\n",
       "      <td>2402.201</td>\n",
       "      <td>5076</td>\n",
       "      <td>Popular</td>\n",
       "      <td>en</td>\n",
       "      <td>Animation, Comedy, Family, Fantasy</td>\n",
       "    </tr>\n",
       "    <tr>\n",
       "      <th>4</th>\n",
       "      <td>2021</td>\n",
       "      <td>The King's Man</td>\n",
       "      <td>1895.511</td>\n",
       "      <td>1793</td>\n",
       "      <td>Average</td>\n",
       "      <td>en</td>\n",
       "      <td>Action, Adventure, Thriller, War</td>\n",
       "    </tr>\n",
       "  </tbody>\n",
       "</table>\n",
       "</div>"
      ],
      "text/plain": [
       "   Release_Date                    Title  Popularity  Vote_Count Vote_Average  \\\n",
       "0          2021  Spider-Man: No Way Home    5083.954        8940      Popular   \n",
       "1          2022               The Batman    3827.658        1151      Popular   \n",
       "2          2022                  No Exit    2618.087         122    Below_Avg   \n",
       "3          2021                  Encanto    2402.201        5076      Popular   \n",
       "4          2021           The King's Man    1895.511        1793      Average   \n",
       "\n",
       "  Original_Language                               Genre  \n",
       "0                en  Action, Adventure, Science Fiction  \n",
       "1                en            Crime, Mystery, Thriller  \n",
       "2                en                            Thriller  \n",
       "3                en  Animation, Comedy, Family, Fantasy  \n",
       "4                en    Action, Adventure, Thriller, War  "
      ]
     },
     "execution_count": 27,
     "metadata": {},
     "output_type": "execute_result"
    }
   ],
   "source": [
    "df.head()"
   ]
  },
  {
   "cell_type": "markdown",
   "id": "40126d47",
   "metadata": {},
   "source": [
    "### __Observation Set 4:__\n",
    "- we will split genres into a list and then\n",
    " explode our dataframe to have only one\n",
    " genre per row for each movie\n",
    "- We will Change the datatype of `Genre` from object to __Categorical__"
   ]
  },
  {
   "cell_type": "code",
   "execution_count": 28,
   "id": "32317063",
   "metadata": {},
   "outputs": [
    {
     "data": {
      "text/html": [
       "<div>\n",
       "<style scoped>\n",
       "    .dataframe tbody tr th:only-of-type {\n",
       "        vertical-align: middle;\n",
       "    }\n",
       "\n",
       "    .dataframe tbody tr th {\n",
       "        vertical-align: top;\n",
       "    }\n",
       "\n",
       "    .dataframe thead th {\n",
       "        text-align: right;\n",
       "    }\n",
       "</style>\n",
       "<table border=\"1\" class=\"dataframe\">\n",
       "  <thead>\n",
       "    <tr style=\"text-align: right;\">\n",
       "      <th></th>\n",
       "      <th>Release_Date</th>\n",
       "      <th>Title</th>\n",
       "      <th>Popularity</th>\n",
       "      <th>Vote_Count</th>\n",
       "      <th>Vote_Average</th>\n",
       "      <th>Original_Language</th>\n",
       "      <th>Genre</th>\n",
       "    </tr>\n",
       "  </thead>\n",
       "  <tbody>\n",
       "    <tr>\n",
       "      <th>0</th>\n",
       "      <td>2021</td>\n",
       "      <td>Spider-Man: No Way Home</td>\n",
       "      <td>5083.954</td>\n",
       "      <td>8940</td>\n",
       "      <td>Popular</td>\n",
       "      <td>en</td>\n",
       "      <td>Action</td>\n",
       "    </tr>\n",
       "    <tr>\n",
       "      <th>1</th>\n",
       "      <td>2021</td>\n",
       "      <td>Spider-Man: No Way Home</td>\n",
       "      <td>5083.954</td>\n",
       "      <td>8940</td>\n",
       "      <td>Popular</td>\n",
       "      <td>en</td>\n",
       "      <td>Adventure</td>\n",
       "    </tr>\n",
       "    <tr>\n",
       "      <th>2</th>\n",
       "      <td>2021</td>\n",
       "      <td>Spider-Man: No Way Home</td>\n",
       "      <td>5083.954</td>\n",
       "      <td>8940</td>\n",
       "      <td>Popular</td>\n",
       "      <td>en</td>\n",
       "      <td>Science Fiction</td>\n",
       "    </tr>\n",
       "    <tr>\n",
       "      <th>3</th>\n",
       "      <td>2022</td>\n",
       "      <td>The Batman</td>\n",
       "      <td>3827.658</td>\n",
       "      <td>1151</td>\n",
       "      <td>Popular</td>\n",
       "      <td>en</td>\n",
       "      <td>Crime</td>\n",
       "    </tr>\n",
       "    <tr>\n",
       "      <th>4</th>\n",
       "      <td>2022</td>\n",
       "      <td>The Batman</td>\n",
       "      <td>3827.658</td>\n",
       "      <td>1151</td>\n",
       "      <td>Popular</td>\n",
       "      <td>en</td>\n",
       "      <td>Mystery</td>\n",
       "    </tr>\n",
       "  </tbody>\n",
       "</table>\n",
       "</div>"
      ],
      "text/plain": [
       "   Release_Date                    Title  Popularity  Vote_Count Vote_Average  \\\n",
       "0          2021  Spider-Man: No Way Home    5083.954        8940      Popular   \n",
       "1          2021  Spider-Man: No Way Home    5083.954        8940      Popular   \n",
       "2          2021  Spider-Man: No Way Home    5083.954        8940      Popular   \n",
       "3          2022               The Batman    3827.658        1151      Popular   \n",
       "4          2022               The Batman    3827.658        1151      Popular   \n",
       "\n",
       "  Original_Language            Genre  \n",
       "0                en           Action  \n",
       "1                en        Adventure  \n",
       "2                en  Science Fiction  \n",
       "3                en            Crime  \n",
       "4                en          Mystery  "
      ]
     },
     "execution_count": 28,
     "metadata": {},
     "output_type": "execute_result"
    }
   ],
   "source": [
    "# spliting the Genre into list\n",
    "df['Genre'] = df['Genre'].str.split(', ')\n",
    "# Exploding the list\n",
    "df = df.explode('Genre').reset_index(drop=True)\n",
    "df.head()"
   ]
  },
  {
   "cell_type": "code",
   "execution_count": 29,
   "id": "6145b4e4",
   "metadata": {},
   "outputs": [
    {
     "name": "stdout",
     "output_type": "stream",
     "text": [
      "object\n"
     ]
    }
   ],
   "source": [
    "print(df.Genre.dtypes)"
   ]
  },
  {
   "cell_type": "code",
   "execution_count": 30,
   "id": "79142eb8",
   "metadata": {},
   "outputs": [
    {
     "name": "stdout",
     "output_type": "stream",
     "text": [
      "object\n"
     ]
    },
    {
     "data": {
      "text/plain": [
       "CategoricalDtype(categories=['Action', 'Adventure', 'Animation', 'Comedy', 'Crime',\n",
       "                  'Documentary', 'Drama', 'Family', 'Fantasy', 'History',\n",
       "                  'Horror', 'Music', 'Mystery', 'Romance', 'Science Fiction',\n",
       "                  'TV Movie', 'Thriller', 'War', 'Western'],\n",
       ", ordered=False, categories_dtype=object)"
      ]
     },
     "execution_count": 30,
     "metadata": {},
     "output_type": "execute_result"
    }
   ],
   "source": [
    "# changing Data type of 'Genre'\n",
    "print(df.Genre.dtypes)\n",
    "\n",
    "df['Genre'] = df['Genre'].astype('category')\n",
    "df.Genre.dtypes"
   ]
  },
  {
   "cell_type": "code",
   "execution_count": 31,
   "id": "f2c40026",
   "metadata": {},
   "outputs": [
    {
     "name": "stdout",
     "output_type": "stream",
     "text": [
      "<class 'pandas.core.frame.DataFrame'>\n",
      "RangeIndex: 25552 entries, 0 to 25551\n",
      "Data columns (total 7 columns):\n",
      " #   Column             Non-Null Count  Dtype   \n",
      "---  ------             --------------  -----   \n",
      " 0   Release_Date       25552 non-null  int32   \n",
      " 1   Title              25552 non-null  object  \n",
      " 2   Popularity         25552 non-null  float64 \n",
      " 3   Vote_Count         25552 non-null  int64   \n",
      " 4   Vote_Average       25552 non-null  category\n",
      " 5   Original_Language  25552 non-null  object  \n",
      " 6   Genre              25552 non-null  category\n",
      "dtypes: category(2), float64(1), int32(1), int64(1), object(2)\n",
      "memory usage: 949.2+ KB\n"
     ]
    }
   ],
   "source": [
    "df.info()"
   ]
  },
  {
   "cell_type": "markdown",
   "id": "ff4d801b",
   "metadata": {},
   "source": [
    "### __Observation Set 5:__\n",
    "- We will change the column name from `Vote_Average ` to `Popularity_level` "
   ]
  },
  {
   "cell_type": "code",
   "execution_count": 32,
   "id": "e926b114",
   "metadata": {},
   "outputs": [],
   "source": [
    "df.rename(columns = {'Vote_Average': 'Popularity_Level'}, inplace = True)"
   ]
  },
  {
   "cell_type": "code",
   "execution_count": 33,
   "id": "20f31024",
   "metadata": {},
   "outputs": [
    {
     "data": {
      "text/html": [
       "<div>\n",
       "<style scoped>\n",
       "    .dataframe tbody tr th:only-of-type {\n",
       "        vertical-align: middle;\n",
       "    }\n",
       "\n",
       "    .dataframe tbody tr th {\n",
       "        vertical-align: top;\n",
       "    }\n",
       "\n",
       "    .dataframe thead th {\n",
       "        text-align: right;\n",
       "    }\n",
       "</style>\n",
       "<table border=\"1\" class=\"dataframe\">\n",
       "  <thead>\n",
       "    <tr style=\"text-align: right;\">\n",
       "      <th></th>\n",
       "      <th>Release_Date</th>\n",
       "      <th>Title</th>\n",
       "      <th>Popularity</th>\n",
       "      <th>Vote_Count</th>\n",
       "      <th>Popularity_Level</th>\n",
       "      <th>Original_Language</th>\n",
       "      <th>Genre</th>\n",
       "    </tr>\n",
       "  </thead>\n",
       "  <tbody>\n",
       "    <tr>\n",
       "      <th>0</th>\n",
       "      <td>2021</td>\n",
       "      <td>Spider-Man: No Way Home</td>\n",
       "      <td>5083.954</td>\n",
       "      <td>8940</td>\n",
       "      <td>Popular</td>\n",
       "      <td>en</td>\n",
       "      <td>Action</td>\n",
       "    </tr>\n",
       "    <tr>\n",
       "      <th>1</th>\n",
       "      <td>2021</td>\n",
       "      <td>Spider-Man: No Way Home</td>\n",
       "      <td>5083.954</td>\n",
       "      <td>8940</td>\n",
       "      <td>Popular</td>\n",
       "      <td>en</td>\n",
       "      <td>Adventure</td>\n",
       "    </tr>\n",
       "    <tr>\n",
       "      <th>2</th>\n",
       "      <td>2021</td>\n",
       "      <td>Spider-Man: No Way Home</td>\n",
       "      <td>5083.954</td>\n",
       "      <td>8940</td>\n",
       "      <td>Popular</td>\n",
       "      <td>en</td>\n",
       "      <td>Science Fiction</td>\n",
       "    </tr>\n",
       "    <tr>\n",
       "      <th>3</th>\n",
       "      <td>2022</td>\n",
       "      <td>The Batman</td>\n",
       "      <td>3827.658</td>\n",
       "      <td>1151</td>\n",
       "      <td>Popular</td>\n",
       "      <td>en</td>\n",
       "      <td>Crime</td>\n",
       "    </tr>\n",
       "    <tr>\n",
       "      <th>4</th>\n",
       "      <td>2022</td>\n",
       "      <td>The Batman</td>\n",
       "      <td>3827.658</td>\n",
       "      <td>1151</td>\n",
       "      <td>Popular</td>\n",
       "      <td>en</td>\n",
       "      <td>Mystery</td>\n",
       "    </tr>\n",
       "  </tbody>\n",
       "</table>\n",
       "</div>"
      ],
      "text/plain": [
       "   Release_Date                    Title  Popularity  Vote_Count  \\\n",
       "0          2021  Spider-Man: No Way Home    5083.954        8940   \n",
       "1          2021  Spider-Man: No Way Home    5083.954        8940   \n",
       "2          2021  Spider-Man: No Way Home    5083.954        8940   \n",
       "3          2022               The Batman    3827.658        1151   \n",
       "4          2022               The Batman    3827.658        1151   \n",
       "\n",
       "  Popularity_Level Original_Language            Genre  \n",
       "0          Popular                en           Action  \n",
       "1          Popular                en        Adventure  \n",
       "2          Popular                en  Science Fiction  \n",
       "3          Popular                en            Crime  \n",
       "4          Popular                en          Mystery  "
      ]
     },
     "execution_count": 33,
     "metadata": {},
     "output_type": "execute_result"
    }
   ],
   "source": [
    "df.head()"
   ]
  },
  {
   "cell_type": "code",
   "execution_count": 34,
   "id": "1554e98c",
   "metadata": {},
   "outputs": [
    {
     "data": {
      "image/png": "[encoded data removed]",
      "text/plain": [
       "<Figure size 640x480 with 1 Axes>"
      ]
     },
     "metadata": {},
     "output_type": "display_data"
    }
   ],
   "source": [
    "sns.boxplot(x=df['Popularity'], color='skyblue')\n",
    "plt.title('Outlier detection in Popularity')\n",
    "plt.xlabel('values')\n",
    "plt.show()"
   ]
  },
  {
   "cell_type": "code",
   "execution_count": 35,
   "id": "525e0819",
   "metadata": {},
   "outputs": [
    {
     "data": {
      "text/plain": [
       "<function matplotlib.pyplot.show(close=None, block=None)>"
      ]
     },
     "execution_count": 35,
     "metadata": {},
     "output_type": "execute_result"
    },
    {
     "data": {
      "image/png": "[encoded data removed]",
      "text/plain": [
       "<Figure size 640x480 with 1 Axes>"
      ]
     },
     "metadata": {},
     "output_type": "display_data"
    }
   ],
   "source": [
    "sns.scatterplot(x=df['Popularity'], y=df['Vote_Count'], color='skyblue')\n",
    "plt.title('Popularity vs Vote_Count with Outlier Detection')\n",
    "plt.xlabel('Popularity')\n",
    "plt.ylabel('Vote_Count')\n",
    "plt.show"
   ]
  },
  {
   "cell_type": "markdown",
   "id": "a0451ffb",
   "metadata": {},
   "source": [
    "### __Observation Set 6:__\n",
    "- we can see their are Outliers.\n",
    "- We can't remove any outliers from it because there are some movies which are hit and got high `popularity and votes` and there are also some movies which are not hit in the conclusion `no popularity and not enough votes`"
   ]
  },
  {
   "cell_type": "markdown",
   "id": "3a1f5687",
   "metadata": {},
   "source": [
    "---\n",
    "\n",
    "# __6.0 Questions And Answers__\n",
    "\n",
    "> We will find the Solution of Given Questions:\n",
    "\n",
    "1. What is the most frequent genre of movies released on Netflix?\n",
    "2. What genres has highest votes?\n",
    "3. What movie got the highest popularity? What's its genre?\n",
    "4. Which year has the most filmed movies was released?\n",
    "5. Top 10 Movies name which got highest Popularity with English langauge?\n"
   ]
  },
  {
   "cell_type": "markdown",
   "id": "b6f8adab",
   "metadata": {},
   "source": [
    "---\n",
    "> ### 1. What is the most frequent genre of movies released on Netflix?\n"
   ]
  },
  {
   "cell_type": "code",
   "execution_count": 36,
   "id": "22e0fd2b",
   "metadata": {},
   "outputs": [
    {
     "data": {
      "text/html": [
       "<div>\n",
       "<style scoped>\n",
       "    .dataframe tbody tr th:only-of-type {\n",
       "        vertical-align: middle;\n",
       "    }\n",
       "\n",
       "    .dataframe tbody tr th {\n",
       "        vertical-align: top;\n",
       "    }\n",
       "\n",
       "    .dataframe thead th {\n",
       "        text-align: right;\n",
       "    }\n",
       "</style>\n",
       "<table border=\"1\" class=\"dataframe\">\n",
       "  <thead>\n",
       "    <tr style=\"text-align: right;\">\n",
       "      <th></th>\n",
       "      <th>Genre</th>\n",
       "      <th>Counts</th>\n",
       "    </tr>\n",
       "  </thead>\n",
       "  <tbody>\n",
       "    <tr>\n",
       "      <th>0</th>\n",
       "      <td>Drama</td>\n",
       "      <td>3715</td>\n",
       "    </tr>\n",
       "    <tr>\n",
       "      <th>1</th>\n",
       "      <td>Comedy</td>\n",
       "      <td>3006</td>\n",
       "    </tr>\n",
       "    <tr>\n",
       "      <th>2</th>\n",
       "      <td>Action</td>\n",
       "      <td>2652</td>\n",
       "    </tr>\n",
       "    <tr>\n",
       "      <th>3</th>\n",
       "      <td>Thriller</td>\n",
       "      <td>2473</td>\n",
       "    </tr>\n",
       "    <tr>\n",
       "      <th>4</th>\n",
       "      <td>Adventure</td>\n",
       "      <td>1829</td>\n",
       "    </tr>\n",
       "    <tr>\n",
       "      <th>5</th>\n",
       "      <td>Romance</td>\n",
       "      <td>1461</td>\n",
       "    </tr>\n",
       "    <tr>\n",
       "      <th>6</th>\n",
       "      <td>Horror</td>\n",
       "      <td>1457</td>\n",
       "    </tr>\n",
       "    <tr>\n",
       "      <th>7</th>\n",
       "      <td>Animation</td>\n",
       "      <td>1426</td>\n",
       "    </tr>\n",
       "    <tr>\n",
       "      <th>8</th>\n",
       "      <td>Family</td>\n",
       "      <td>1405</td>\n",
       "    </tr>\n",
       "    <tr>\n",
       "      <th>9</th>\n",
       "      <td>Fantasy</td>\n",
       "      <td>1295</td>\n",
       "    </tr>\n",
       "    <tr>\n",
       "      <th>10</th>\n",
       "      <td>Science Fiction</td>\n",
       "      <td>1255</td>\n",
       "    </tr>\n",
       "    <tr>\n",
       "      <th>11</th>\n",
       "      <td>Crime</td>\n",
       "      <td>1235</td>\n",
       "    </tr>\n",
       "    <tr>\n",
       "      <th>12</th>\n",
       "      <td>Mystery</td>\n",
       "      <td>765</td>\n",
       "    </tr>\n",
       "    <tr>\n",
       "      <th>13</th>\n",
       "      <td>History</td>\n",
       "      <td>426</td>\n",
       "    </tr>\n",
       "    <tr>\n",
       "      <th>14</th>\n",
       "      <td>War</td>\n",
       "      <td>307</td>\n",
       "    </tr>\n",
       "    <tr>\n",
       "      <th>15</th>\n",
       "      <td>Music</td>\n",
       "      <td>291</td>\n",
       "    </tr>\n",
       "    <tr>\n",
       "      <th>16</th>\n",
       "      <td>TV Movie</td>\n",
       "      <td>214</td>\n",
       "    </tr>\n",
       "    <tr>\n",
       "      <th>17</th>\n",
       "      <td>Documentary</td>\n",
       "      <td>203</td>\n",
       "    </tr>\n",
       "    <tr>\n",
       "      <th>18</th>\n",
       "      <td>Western</td>\n",
       "      <td>137</td>\n",
       "    </tr>\n",
       "  </tbody>\n",
       "</table>\n",
       "</div>"
      ],
      "text/plain": [
       "              Genre  Counts\n",
       "0             Drama    3715\n",
       "1            Comedy    3006\n",
       "2            Action    2652\n",
       "3          Thriller    2473\n",
       "4         Adventure    1829\n",
       "5           Romance    1461\n",
       "6            Horror    1457\n",
       "7         Animation    1426\n",
       "8            Family    1405\n",
       "9           Fantasy    1295\n",
       "10  Science Fiction    1255\n",
       "11            Crime    1235\n",
       "12          Mystery     765\n",
       "13          History     426\n",
       "14              War     307\n",
       "15            Music     291\n",
       "16         TV Movie     214\n",
       "17      Documentary     203\n",
       "18          Western     137"
      ]
     },
     "execution_count": 36,
     "metadata": {},
     "output_type": "execute_result"
    }
   ],
   "source": [
    "genre_counts = df['Genre'].value_counts().reset_index()\n",
    "genre_counts.columns = ['Genre', 'Counts']\n",
    "genre_counts"
   ]
  },
  {
   "cell_type": "code",
   "execution_count": 37,
   "id": "a337f66c",
   "metadata": {},
   "outputs": [],
   "source": [
    " # setting up seaborn configurations\n",
    "sns.set_style('whitegrid')\n",
    " "
   ]
  },
  {
   "cell_type": "code",
   "execution_count": 38,
   "id": "f92dce35",
   "metadata": {},
   "outputs": [
    {
     "data": {
      "image/png": "[encoded data removed]",
      "text/plain": [
       "<Figure size 511.111x500 with 1 Axes>"
      ]
     },
     "metadata": {},
     "output_type": "display_data"
    }
   ],
   "source": [
    "# visualizing genre column\n",
    "sns.catplot(data = df,  kind = 'count', y = 'Genre', order = df['Genre'].value_counts().index, color = '#4287f5')\n",
    "plt.title('Number of movies in Each Genre')\n",
    "plt.xlabel('Number of movies')\n",
    "plt.show()"
   ]
  },
  {
   "cell_type": "markdown",
   "id": "86644a3b",
   "metadata": {},
   "source": [
    "> ### __Figure 1:__ Top Genre on Netflix which have more movies than others?\n",
    "\n",
    "### __Drama__ is top Genre on Netflix base on this Dataset, Which have `3715` Dramas. The second is __Comedy__ Genre, Which have `3006` Movies. "
   ]
  },
  {
   "cell_type": "markdown",
   "id": "6f529f5e",
   "metadata": {},
   "source": [
    "---\n",
    "\n",
    ">> ### 2. What Genres is highest Votes?"
   ]
  },
  {
   "cell_type": "code",
   "execution_count": 39,
   "id": "782e5a6d",
   "metadata": {},
   "outputs": [
    {
     "data": {
      "text/html": [
       "<div>\n",
       "<style scoped>\n",
       "    .dataframe tbody tr th:only-of-type {\n",
       "        vertical-align: middle;\n",
       "    }\n",
       "\n",
       "    .dataframe tbody tr th {\n",
       "        vertical-align: top;\n",
       "    }\n",
       "\n",
       "    .dataframe thead th {\n",
       "        text-align: right;\n",
       "    }\n",
       "</style>\n",
       "<table border=\"1\" class=\"dataframe\">\n",
       "  <thead>\n",
       "    <tr style=\"text-align: right;\">\n",
       "      <th></th>\n",
       "      <th>Release_Date</th>\n",
       "      <th>Title</th>\n",
       "      <th>Popularity</th>\n",
       "      <th>Vote_Count</th>\n",
       "      <th>Popularity_Level</th>\n",
       "      <th>Original_Language</th>\n",
       "      <th>Genre</th>\n",
       "    </tr>\n",
       "  </thead>\n",
       "  <tbody>\n",
       "    <tr>\n",
       "      <th>0</th>\n",
       "      <td>2021</td>\n",
       "      <td>Spider-Man: No Way Home</td>\n",
       "      <td>5083.954</td>\n",
       "      <td>8940</td>\n",
       "      <td>Popular</td>\n",
       "      <td>en</td>\n",
       "      <td>Action</td>\n",
       "    </tr>\n",
       "  </tbody>\n",
       "</table>\n",
       "</div>"
      ],
      "text/plain": [
       "   Release_Date                    Title  Popularity  Vote_Count  \\\n",
       "0          2021  Spider-Man: No Way Home    5083.954        8940   \n",
       "\n",
       "  Popularity_Level Original_Language   Genre  \n",
       "0          Popular                en  Action  "
      ]
     },
     "execution_count": 39,
     "metadata": {},
     "output_type": "execute_result"
    }
   ],
   "source": [
    "df.head(1)"
   ]
  },
  {
   "cell_type": "code",
   "execution_count": 40,
   "id": "3193b31a",
   "metadata": {},
   "outputs": [
    {
     "data": {
      "text/html": [
       "<div>\n",
       "<style scoped>\n",
       "    .dataframe tbody tr th:only-of-type {\n",
       "        vertical-align: middle;\n",
       "    }\n",
       "\n",
       "    .dataframe tbody tr th {\n",
       "        vertical-align: top;\n",
       "    }\n",
       "\n",
       "    .dataframe thead th {\n",
       "        text-align: right;\n",
       "    }\n",
       "</style>\n",
       "<table border=\"1\" class=\"dataframe\">\n",
       "  <thead>\n",
       "    <tr style=\"text-align: right;\">\n",
       "      <th></th>\n",
       "      <th>Genre</th>\n",
       "      <th>Vote_Count</th>\n",
       "    </tr>\n",
       "  </thead>\n",
       "  <tbody>\n",
       "    <tr>\n",
       "      <th>0</th>\n",
       "      <td>Drama</td>\n",
       "      <td>5141495</td>\n",
       "    </tr>\n",
       "    <tr>\n",
       "      <th>1</th>\n",
       "      <td>Action</td>\n",
       "      <td>4868675</td>\n",
       "    </tr>\n",
       "    <tr>\n",
       "      <th>2</th>\n",
       "      <td>Adventure</td>\n",
       "      <td>4313869</td>\n",
       "    </tr>\n",
       "    <tr>\n",
       "      <th>3</th>\n",
       "      <td>Comedy</td>\n",
       "      <td>3933497</td>\n",
       "    </tr>\n",
       "    <tr>\n",
       "      <th>4</th>\n",
       "      <td>Thriller</td>\n",
       "      <td>3631594</td>\n",
       "    </tr>\n",
       "    <tr>\n",
       "      <th>5</th>\n",
       "      <td>Science Fiction</td>\n",
       "      <td>2850476</td>\n",
       "    </tr>\n",
       "    <tr>\n",
       "      <th>6</th>\n",
       "      <td>Fantasy</td>\n",
       "      <td>2521940</td>\n",
       "    </tr>\n",
       "    <tr>\n",
       "      <th>7</th>\n",
       "      <td>Family</td>\n",
       "      <td>2046625</td>\n",
       "    </tr>\n",
       "    <tr>\n",
       "      <th>8</th>\n",
       "      <td>Crime</td>\n",
       "      <td>1980261</td>\n",
       "    </tr>\n",
       "    <tr>\n",
       "      <th>9</th>\n",
       "      <td>Romance</td>\n",
       "      <td>1803756</td>\n",
       "    </tr>\n",
       "    <tr>\n",
       "      <th>10</th>\n",
       "      <td>Animation</td>\n",
       "      <td>1525045</td>\n",
       "    </tr>\n",
       "    <tr>\n",
       "      <th>11</th>\n",
       "      <td>Horror</td>\n",
       "      <td>1448486</td>\n",
       "    </tr>\n",
       "    <tr>\n",
       "      <th>12</th>\n",
       "      <td>Mystery</td>\n",
       "      <td>1181275</td>\n",
       "    </tr>\n",
       "    <tr>\n",
       "      <th>13</th>\n",
       "      <td>History</td>\n",
       "      <td>527056</td>\n",
       "    </tr>\n",
       "    <tr>\n",
       "      <th>14</th>\n",
       "      <td>War</td>\n",
       "      <td>448918</td>\n",
       "    </tr>\n",
       "    <tr>\n",
       "      <th>15</th>\n",
       "      <td>Music</td>\n",
       "      <td>297446</td>\n",
       "    </tr>\n",
       "    <tr>\n",
       "      <th>16</th>\n",
       "      <td>Western</td>\n",
       "      <td>186860</td>\n",
       "    </tr>\n",
       "    <tr>\n",
       "      <th>17</th>\n",
       "      <td>TV Movie</td>\n",
       "      <td>68441</td>\n",
       "    </tr>\n",
       "    <tr>\n",
       "      <th>18</th>\n",
       "      <td>Documentary</td>\n",
       "      <td>38224</td>\n",
       "    </tr>\n",
       "  </tbody>\n",
       "</table>\n",
       "</div>"
      ],
      "text/plain": [
       "              Genre  Vote_Count\n",
       "0             Drama     5141495\n",
       "1            Action     4868675\n",
       "2         Adventure     4313869\n",
       "3            Comedy     3933497\n",
       "4          Thriller     3631594\n",
       "5   Science Fiction     2850476\n",
       "6           Fantasy     2521940\n",
       "7            Family     2046625\n",
       "8             Crime     1980261\n",
       "9           Romance     1803756\n",
       "10        Animation     1525045\n",
       "11           Horror     1448486\n",
       "12          Mystery     1181275\n",
       "13          History      527056\n",
       "14              War      448918\n",
       "15            Music      297446\n",
       "16          Western      186860\n",
       "17         TV Movie       68441\n",
       "18      Documentary       38224"
      ]
     },
     "execution_count": 40,
     "metadata": {},
     "output_type": "execute_result"
    }
   ],
   "source": [
    "genre_votes = df.groupby('Genre')['Vote_Count'].sum().sort_values(ascending=False).reset_index()\n",
    "genre_votes\n"
   ]
  },
  {
   "cell_type": "code",
   "execution_count": 41,
   "id": "f483df8a",
   "metadata": {},
   "outputs": [
    {
     "data": {
      "image/png": "[encoded data removed]",
      "text/plain": [
       "<Figure size 1000x600 with 1 Axes>"
      ]
     },
     "metadata": {},
     "output_type": "display_data"
    }
   ],
   "source": [
    "plt.figure(figsize=(10,6))\n",
    " # setting up seaborn configurations\n",
    "sns.set_style('whitegrid')\n",
    "sns.barplot(data=genre_votes, x = 'Vote_Count',y='Genre', orient='h', color = '#4287f5')\n",
    "# customize x-ticks\n",
    "plt.xlabel('Total Votes')\n",
    "plt.ylabel('Genre')\n",
    "plt.title('Genres with Highest Total Votes')\n",
    "plt.tight_layout()\n",
    "plt.show()\n"
   ]
  },
  {
   "cell_type": "markdown",
   "id": "a3f017ce",
   "metadata": {},
   "source": [
    ">> ### __Figure 2:__ Top Genres with Highest Votes\n",
    "### Top Genres with highest __Votes__ are `Drama` which have `5141495` votes and the second is `Action` which have `4868675` votes and the third is `Adventure` which have `4313869` votes etc.\n",
    "\n",
    "---"
   ]
  },
  {
   "cell_type": "markdown",
   "id": "9703970e",
   "metadata": {},
   "source": [
    ">>> ### 3. What movie got highest popularity and what it's genre?"
   ]
  },
  {
   "cell_type": "code",
   "execution_count": 42,
   "id": "113afc0b",
   "metadata": {},
   "outputs": [
    {
     "data": {
      "text/html": [
       "<div>\n",
       "<style scoped>\n",
       "    .dataframe tbody tr th:only-of-type {\n",
       "        vertical-align: middle;\n",
       "    }\n",
       "\n",
       "    .dataframe tbody tr th {\n",
       "        vertical-align: top;\n",
       "    }\n",
       "\n",
       "    .dataframe thead th {\n",
       "        text-align: right;\n",
       "    }\n",
       "</style>\n",
       "<table border=\"1\" class=\"dataframe\">\n",
       "  <thead>\n",
       "    <tr style=\"text-align: right;\">\n",
       "      <th></th>\n",
       "      <th>Release_Date</th>\n",
       "      <th>Title</th>\n",
       "      <th>Popularity</th>\n",
       "      <th>Vote_Count</th>\n",
       "      <th>Popularity_Level</th>\n",
       "      <th>Original_Language</th>\n",
       "      <th>Genre</th>\n",
       "    </tr>\n",
       "  </thead>\n",
       "  <tbody>\n",
       "    <tr>\n",
       "      <th>0</th>\n",
       "      <td>2021</td>\n",
       "      <td>Spider-Man: No Way Home</td>\n",
       "      <td>5083.954</td>\n",
       "      <td>8940</td>\n",
       "      <td>Popular</td>\n",
       "      <td>en</td>\n",
       "      <td>Action</td>\n",
       "    </tr>\n",
       "  </tbody>\n",
       "</table>\n",
       "</div>"
      ],
      "text/plain": [
       "   Release_Date                    Title  Popularity  Vote_Count  \\\n",
       "0          2021  Spider-Man: No Way Home    5083.954        8940   \n",
       "\n",
       "  Popularity_Level Original_Language   Genre  \n",
       "0          Popular                en  Action  "
      ]
     },
     "execution_count": 42,
     "metadata": {},
     "output_type": "execute_result"
    }
   ],
   "source": [
    "df.head(1)"
   ]
  },
  {
   "cell_type": "code",
   "execution_count": 43,
   "id": "2023ec66",
   "metadata": {},
   "outputs": [
    {
     "data": {
      "text/html": [
       "<div>\n",
       "<style scoped>\n",
       "    .dataframe tbody tr th:only-of-type {\n",
       "        vertical-align: middle;\n",
       "    }\n",
       "\n",
       "    .dataframe tbody tr th {\n",
       "        vertical-align: top;\n",
       "    }\n",
       "\n",
       "    .dataframe thead th {\n",
       "        text-align: right;\n",
       "    }\n",
       "</style>\n",
       "<table border=\"1\" class=\"dataframe\">\n",
       "  <thead>\n",
       "    <tr style=\"text-align: right;\">\n",
       "      <th></th>\n",
       "      <th>Release_Date</th>\n",
       "      <th>Title</th>\n",
       "      <th>Popularity</th>\n",
       "      <th>Vote_Count</th>\n",
       "      <th>Popularity_Level</th>\n",
       "      <th>Original_Language</th>\n",
       "      <th>Genre</th>\n",
       "    </tr>\n",
       "  </thead>\n",
       "  <tbody>\n",
       "    <tr>\n",
       "      <th>0</th>\n",
       "      <td>2021</td>\n",
       "      <td>Spider-Man: No Way Home</td>\n",
       "      <td>5083.954</td>\n",
       "      <td>8940</td>\n",
       "      <td>Popular</td>\n",
       "      <td>en</td>\n",
       "      <td>Action</td>\n",
       "    </tr>\n",
       "    <tr>\n",
       "      <th>1</th>\n",
       "      <td>2021</td>\n",
       "      <td>Spider-Man: No Way Home</td>\n",
       "      <td>5083.954</td>\n",
       "      <td>8940</td>\n",
       "      <td>Popular</td>\n",
       "      <td>en</td>\n",
       "      <td>Adventure</td>\n",
       "    </tr>\n",
       "    <tr>\n",
       "      <th>2</th>\n",
       "      <td>2021</td>\n",
       "      <td>Spider-Man: No Way Home</td>\n",
       "      <td>5083.954</td>\n",
       "      <td>8940</td>\n",
       "      <td>Popular</td>\n",
       "      <td>en</td>\n",
       "      <td>Science Fiction</td>\n",
       "    </tr>\n",
       "  </tbody>\n",
       "</table>\n",
       "</div>"
      ],
      "text/plain": [
       "   Release_Date                    Title  Popularity  Vote_Count  \\\n",
       "0          2021  Spider-Man: No Way Home    5083.954        8940   \n",
       "1          2021  Spider-Man: No Way Home    5083.954        8940   \n",
       "2          2021  Spider-Man: No Way Home    5083.954        8940   \n",
       "\n",
       "  Popularity_Level Original_Language            Genre  \n",
       "0          Popular                en           Action  \n",
       "1          Popular                en        Adventure  \n",
       "2          Popular                en  Science Fiction  "
      ]
     },
     "execution_count": 43,
     "metadata": {},
     "output_type": "execute_result"
    }
   ],
   "source": [
    "df[df['Popularity'] == df.Popularity.max()]"
   ]
  },
  {
   "cell_type": "markdown",
   "id": "f93cde43",
   "metadata": {},
   "source": [
    ">>> ### __Figure 3:__ Movie with Highest Popularity and their Genres\n",
    "### The __Spider Man: No Way Home Movie__ has the highest popularity which is `5083.954` and their Genres are `Action`, `Adventure` and `Science Ficion`\n",
    "\n",
    "---"
   ]
  },
  {
   "cell_type": "markdown",
   "id": "9885b51b",
   "metadata": {},
   "source": [
    ">>>> ### 4. Which Year the Most filmed movies was released?"
   ]
  },
  {
   "cell_type": "code",
   "execution_count": 44,
   "id": "785c97ec",
   "metadata": {},
   "outputs": [
    {
     "data": {
      "text/html": [
       "<div>\n",
       "<style scoped>\n",
       "    .dataframe tbody tr th:only-of-type {\n",
       "        vertical-align: middle;\n",
       "    }\n",
       "\n",
       "    .dataframe tbody tr th {\n",
       "        vertical-align: top;\n",
       "    }\n",
       "\n",
       "    .dataframe thead th {\n",
       "        text-align: right;\n",
       "    }\n",
       "</style>\n",
       "<table border=\"1\" class=\"dataframe\">\n",
       "  <thead>\n",
       "    <tr style=\"text-align: right;\">\n",
       "      <th></th>\n",
       "      <th>Release_Date</th>\n",
       "      <th>count</th>\n",
       "    </tr>\n",
       "  </thead>\n",
       "  <tbody>\n",
       "    <tr>\n",
       "      <th>0</th>\n",
       "      <td>2011</td>\n",
       "      <td>855</td>\n",
       "    </tr>\n",
       "    <tr>\n",
       "      <th>1</th>\n",
       "      <td>2013</td>\n",
       "      <td>877</td>\n",
       "    </tr>\n",
       "    <tr>\n",
       "      <th>2</th>\n",
       "      <td>2014</td>\n",
       "      <td>922</td>\n",
       "    </tr>\n",
       "    <tr>\n",
       "      <th>3</th>\n",
       "      <td>2015</td>\n",
       "      <td>1015</td>\n",
       "    </tr>\n",
       "    <tr>\n",
       "      <th>4</th>\n",
       "      <td>2016</td>\n",
       "      <td>1209</td>\n",
       "    </tr>\n",
       "    <tr>\n",
       "      <th>5</th>\n",
       "      <td>2017</td>\n",
       "      <td>1365</td>\n",
       "    </tr>\n",
       "    <tr>\n",
       "      <th>6</th>\n",
       "      <td>2018</td>\n",
       "      <td>1384</td>\n",
       "    </tr>\n",
       "    <tr>\n",
       "      <th>7</th>\n",
       "      <td>2019</td>\n",
       "      <td>1271</td>\n",
       "    </tr>\n",
       "    <tr>\n",
       "      <th>8</th>\n",
       "      <td>2020</td>\n",
       "      <td>1121</td>\n",
       "    </tr>\n",
       "    <tr>\n",
       "      <th>9</th>\n",
       "      <td>2021</td>\n",
       "      <td>1636</td>\n",
       "    </tr>\n",
       "  </tbody>\n",
       "</table>\n",
       "</div>"
      ],
      "text/plain": [
       "   Release_Date  count\n",
       "0          2011    855\n",
       "1          2013    877\n",
       "2          2014    922\n",
       "3          2015   1015\n",
       "4          2016   1209\n",
       "5          2017   1365\n",
       "6          2018   1384\n",
       "7          2019   1271\n",
       "8          2020   1121\n",
       "9          2021   1636"
      ]
     },
     "execution_count": 44,
     "metadata": {},
     "output_type": "execute_result"
    }
   ],
   "source": [
    "movies_released = df['Release_Date'].value_counts().head(10).sort_index().reset_index()\n",
    "movies_released"
   ]
  },
  {
   "cell_type": "code",
   "execution_count": 45,
   "id": "bbe3da53",
   "metadata": {},
   "outputs": [
    {
     "data": {
      "image/png": "[encoded data removed]",
      "text/plain": [
       "<Figure size 1000x500 with 1 Axes>"
      ]
     },
     "metadata": {},
     "output_type": "display_data"
    }
   ],
   "source": [
    "plt.figure(figsize=(10,5))\n",
    "sns.lineplot(data=movies_released, x='Release_Date', y='count', marker='o')\n",
    "plt.title('Top 10 Years with Highest Movies Released')\n",
    "plt.xlabel('Year')\n",
    "plt.ylabel('Number of Movies')\n",
    "plt.xticks(rotation=45)\n",
    "plt.show()"
   ]
  },
  {
   "cell_type": "markdown",
   "id": "1d956efb",
   "metadata": {},
   "source": [
    ">>>> ### __Figure 4:__ 10 Years in Which released highest Movies\n",
    "### The Highest Movies released year is `2021` in which `1636` movies was released and the 2nd  year is `2020` in which `1121` movies was released and 3rd Year is `2019` in which `1271` movies was released."
   ]
  },
  {
   "cell_type": "markdown",
   "id": "02ec98b8",
   "metadata": {},
   "source": [
    "---\n",
    "\n",
    ">>>>> ### 5. Top 10 Movies name which got highest Popularity with English langauge?\n"
   ]
  },
  {
   "cell_type": "code",
   "execution_count": 46,
   "id": "0b917aed",
   "metadata": {},
   "outputs": [
    {
     "data": {
      "text/html": [
       "<div>\n",
       "<style scoped>\n",
       "    .dataframe tbody tr th:only-of-type {\n",
       "        vertical-align: middle;\n",
       "    }\n",
       "\n",
       "    .dataframe tbody tr th {\n",
       "        vertical-align: top;\n",
       "    }\n",
       "\n",
       "    .dataframe thead th {\n",
       "        text-align: right;\n",
       "    }\n",
       "</style>\n",
       "<table border=\"1\" class=\"dataframe\">\n",
       "  <thead>\n",
       "    <tr style=\"text-align: right;\">\n",
       "      <th></th>\n",
       "      <th>Release_Date</th>\n",
       "      <th>Title</th>\n",
       "      <th>Popularity</th>\n",
       "      <th>Vote_Count</th>\n",
       "      <th>Popularity_Level</th>\n",
       "      <th>Original_Language</th>\n",
       "      <th>Genre</th>\n",
       "    </tr>\n",
       "  </thead>\n",
       "  <tbody>\n",
       "    <tr>\n",
       "      <th>0</th>\n",
       "      <td>2021</td>\n",
       "      <td>Spider-Man: No Way Home</td>\n",
       "      <td>5083.954</td>\n",
       "      <td>8940</td>\n",
       "      <td>Popular</td>\n",
       "      <td>en</td>\n",
       "      <td>Action</td>\n",
       "    </tr>\n",
       "  </tbody>\n",
       "</table>\n",
       "</div>"
      ],
      "text/plain": [
       "   Release_Date                    Title  Popularity  Vote_Count  \\\n",
       "0          2021  Spider-Man: No Way Home    5083.954        8940   \n",
       "\n",
       "  Popularity_Level Original_Language   Genre  \n",
       "0          Popular                en  Action  "
      ]
     },
     "execution_count": 46,
     "metadata": {},
     "output_type": "execute_result"
    }
   ],
   "source": [
    "df.head(1)"
   ]
  },
  {
   "cell_type": "code",
   "execution_count": 47,
   "id": "51214cbd",
   "metadata": {},
   "outputs": [
    {
     "data": {
      "text/html": [
       "<div>\n",
       "<style scoped>\n",
       "    .dataframe tbody tr th:only-of-type {\n",
       "        vertical-align: middle;\n",
       "    }\n",
       "\n",
       "    .dataframe tbody tr th {\n",
       "        vertical-align: top;\n",
       "    }\n",
       "\n",
       "    .dataframe thead th {\n",
       "        text-align: right;\n",
       "    }\n",
       "</style>\n",
       "<table border=\"1\" class=\"dataframe\">\n",
       "  <thead>\n",
       "    <tr style=\"text-align: right;\">\n",
       "      <th></th>\n",
       "      <th>Release_Date</th>\n",
       "      <th>Title</th>\n",
       "      <th>Popularity</th>\n",
       "      <th>Vote_Count</th>\n",
       "      <th>Popularity_Level</th>\n",
       "      <th>Original_Language</th>\n",
       "      <th>Genre</th>\n",
       "    </tr>\n",
       "  </thead>\n",
       "  <tbody>\n",
       "    <tr>\n",
       "      <th>0</th>\n",
       "      <td>2021</td>\n",
       "      <td>Spider-Man: No Way Home</td>\n",
       "      <td>5083.954</td>\n",
       "      <td>8940</td>\n",
       "      <td>Popular</td>\n",
       "      <td>en</td>\n",
       "      <td>Action</td>\n",
       "    </tr>\n",
       "    <tr>\n",
       "      <th>3</th>\n",
       "      <td>2022</td>\n",
       "      <td>The Batman</td>\n",
       "      <td>3827.658</td>\n",
       "      <td>1151</td>\n",
       "      <td>Popular</td>\n",
       "      <td>en</td>\n",
       "      <td>Crime</td>\n",
       "    </tr>\n",
       "    <tr>\n",
       "      <th>6</th>\n",
       "      <td>2022</td>\n",
       "      <td>No Exit</td>\n",
       "      <td>2618.087</td>\n",
       "      <td>122</td>\n",
       "      <td>Below_Avg</td>\n",
       "      <td>en</td>\n",
       "      <td>Thriller</td>\n",
       "    </tr>\n",
       "    <tr>\n",
       "      <th>7</th>\n",
       "      <td>2021</td>\n",
       "      <td>Encanto</td>\n",
       "      <td>2402.201</td>\n",
       "      <td>5076</td>\n",
       "      <td>Popular</td>\n",
       "      <td>en</td>\n",
       "      <td>Animation</td>\n",
       "    </tr>\n",
       "    <tr>\n",
       "      <th>11</th>\n",
       "      <td>2021</td>\n",
       "      <td>The King's Man</td>\n",
       "      <td>1895.511</td>\n",
       "      <td>1793</td>\n",
       "      <td>Average</td>\n",
       "      <td>en</td>\n",
       "      <td>Action</td>\n",
       "    </tr>\n",
       "  </tbody>\n",
       "</table>\n",
       "</div>"
      ],
      "text/plain": [
       "    Release_Date                    Title  Popularity  Vote_Count  \\\n",
       "0           2021  Spider-Man: No Way Home    5083.954        8940   \n",
       "3           2022               The Batman    3827.658        1151   \n",
       "6           2022                  No Exit    2618.087         122   \n",
       "7           2021                  Encanto    2402.201        5076   \n",
       "11          2021           The King's Man    1895.511        1793   \n",
       "\n",
       "   Popularity_Level Original_Language      Genre  \n",
       "0           Popular                en     Action  \n",
       "3           Popular                en      Crime  \n",
       "6         Below_Avg                en   Thriller  \n",
       "7           Popular                en  Animation  \n",
       "11          Average                en     Action  "
      ]
     },
     "execution_count": 47,
     "metadata": {},
     "output_type": "execute_result"
    }
   ],
   "source": [
    "df_filter = df.drop_duplicates(subset='Title')\n",
    "df_filter.head()"
   ]
  },
  {
   "cell_type": "code",
   "execution_count": 48,
   "id": "876e50e9",
   "metadata": {},
   "outputs": [
    {
     "data": {
      "text/html": [
       "<div>\n",
       "<style scoped>\n",
       "    .dataframe tbody tr th:only-of-type {\n",
       "        vertical-align: middle;\n",
       "    }\n",
       "\n",
       "    .dataframe tbody tr th {\n",
       "        vertical-align: top;\n",
       "    }\n",
       "\n",
       "    .dataframe thead th {\n",
       "        text-align: right;\n",
       "    }\n",
       "</style>\n",
       "<table border=\"1\" class=\"dataframe\">\n",
       "  <thead>\n",
       "    <tr style=\"text-align: right;\">\n",
       "      <th></th>\n",
       "      <th>Release_Date</th>\n",
       "      <th>Title</th>\n",
       "      <th>Popularity</th>\n",
       "      <th>Vote_Count</th>\n",
       "      <th>Popularity_Level</th>\n",
       "      <th>Original_Language</th>\n",
       "      <th>Genre</th>\n",
       "    </tr>\n",
       "  </thead>\n",
       "  <tbody>\n",
       "    <tr>\n",
       "      <th>0</th>\n",
       "      <td>2021</td>\n",
       "      <td>Spider-Man: No Way Home</td>\n",
       "      <td>5083.954</td>\n",
       "      <td>8940</td>\n",
       "      <td>Popular</td>\n",
       "      <td>en</td>\n",
       "      <td>Action</td>\n",
       "    </tr>\n",
       "    <tr>\n",
       "      <th>3</th>\n",
       "      <td>2022</td>\n",
       "      <td>The Batman</td>\n",
       "      <td>3827.658</td>\n",
       "      <td>1151</td>\n",
       "      <td>Popular</td>\n",
       "      <td>en</td>\n",
       "      <td>Crime</td>\n",
       "    </tr>\n",
       "    <tr>\n",
       "      <th>6</th>\n",
       "      <td>2022</td>\n",
       "      <td>No Exit</td>\n",
       "      <td>2618.087</td>\n",
       "      <td>122</td>\n",
       "      <td>Below_Avg</td>\n",
       "      <td>en</td>\n",
       "      <td>Thriller</td>\n",
       "    </tr>\n",
       "    <tr>\n",
       "      <th>7</th>\n",
       "      <td>2021</td>\n",
       "      <td>Encanto</td>\n",
       "      <td>2402.201</td>\n",
       "      <td>5076</td>\n",
       "      <td>Popular</td>\n",
       "      <td>en</td>\n",
       "      <td>Animation</td>\n",
       "    </tr>\n",
       "    <tr>\n",
       "      <th>11</th>\n",
       "      <td>2021</td>\n",
       "      <td>The King's Man</td>\n",
       "      <td>1895.511</td>\n",
       "      <td>1793</td>\n",
       "      <td>Average</td>\n",
       "      <td>en</td>\n",
       "      <td>Action</td>\n",
       "    </tr>\n",
       "    <tr>\n",
       "      <th>15</th>\n",
       "      <td>2022</td>\n",
       "      <td>The Commando</td>\n",
       "      <td>1750.484</td>\n",
       "      <td>33</td>\n",
       "      <td>Average</td>\n",
       "      <td>en</td>\n",
       "      <td>Action</td>\n",
       "    </tr>\n",
       "    <tr>\n",
       "      <th>18</th>\n",
       "      <td>2022</td>\n",
       "      <td>Scream</td>\n",
       "      <td>1675.161</td>\n",
       "      <td>821</td>\n",
       "      <td>Average</td>\n",
       "      <td>en</td>\n",
       "      <td>Horror</td>\n",
       "    </tr>\n",
       "    <tr>\n",
       "      <th>21</th>\n",
       "      <td>2022</td>\n",
       "      <td>Kimi</td>\n",
       "      <td>1601.782</td>\n",
       "      <td>206</td>\n",
       "      <td>Below_Avg</td>\n",
       "      <td>en</td>\n",
       "      <td>Thriller</td>\n",
       "    </tr>\n",
       "    <tr>\n",
       "      <th>22</th>\n",
       "      <td>2022</td>\n",
       "      <td>Fistful of Vengeance</td>\n",
       "      <td>1594.013</td>\n",
       "      <td>114</td>\n",
       "      <td>Not_Popular</td>\n",
       "      <td>en</td>\n",
       "      <td>Action</td>\n",
       "    </tr>\n",
       "    <tr>\n",
       "      <th>25</th>\n",
       "      <td>2021</td>\n",
       "      <td>Eternals</td>\n",
       "      <td>1537.406</td>\n",
       "      <td>4726</td>\n",
       "      <td>Popular</td>\n",
       "      <td>en</td>\n",
       "      <td>Science Fiction</td>\n",
       "    </tr>\n",
       "  </tbody>\n",
       "</table>\n",
       "</div>"
      ],
      "text/plain": [
       "    Release_Date                    Title  Popularity  Vote_Count  \\\n",
       "0           2021  Spider-Man: No Way Home    5083.954        8940   \n",
       "3           2022               The Batman    3827.658        1151   \n",
       "6           2022                  No Exit    2618.087         122   \n",
       "7           2021                  Encanto    2402.201        5076   \n",
       "11          2021           The King's Man    1895.511        1793   \n",
       "15          2022             The Commando    1750.484          33   \n",
       "18          2022                   Scream    1675.161         821   \n",
       "21          2022                     Kimi    1601.782         206   \n",
       "22          2022     Fistful of Vengeance    1594.013         114   \n",
       "25          2021                 Eternals    1537.406        4726   \n",
       "\n",
       "   Popularity_Level Original_Language            Genre  \n",
       "0           Popular                en           Action  \n",
       "3           Popular                en            Crime  \n",
       "6         Below_Avg                en         Thriller  \n",
       "7           Popular                en        Animation  \n",
       "11          Average                en           Action  \n",
       "15          Average                en           Action  \n",
       "18          Average                en           Horror  \n",
       "21        Below_Avg                en         Thriller  \n",
       "22      Not_Popular                en           Action  \n",
       "25          Popular                en  Science Fiction  "
      ]
     },
     "execution_count": 48,
     "metadata": {},
     "output_type": "execute_result"
    }
   ],
   "source": [
    "top10_en = df_filter[(df_filter['Original_Language'] == 'en')].sort_values(by='Popularity', ascending=False).head(10)\n",
    "top10_en"
   ]
  },
  {
   "cell_type": "code",
   "execution_count": 49,
   "id": "47bb74d4",
   "metadata": {},
   "outputs": [
    {
     "data": {
      "image/png": "[encoded data removed]",
      "text/plain": [
       "<Figure size 1000x600 with 1 Axes>"
      ]
     },
     "metadata": {},
     "output_type": "display_data"
    }
   ],
   "source": [
    "plt.figure(figsize=(10,6))\n",
    "sns.barplot(x='Popularity', y='Title', data=top10_en, color='#4287f5')\n",
    "plt.title('Top 10 Most Popular English Movies')\n",
    "plt.xlabel('Popularity Score')\n",
    "plt.ylabel('Movie Title')\n",
    "plt.tight_layout()\n",
    "plt.show()\n"
   ]
  },
  {
   "cell_type": "markdown",
   "id": "d15e8670",
   "metadata": {},
   "source": [
    ">>>>>> ### __Figure 6:__ Top Popular Movies which are published in __English__ Langauge\n",
    "### The Most Popular Movies which are published in __English__ Langauge is `Spider man: No Way Home` which has `5083.954` popularity and the Second Movie is `The Batman` which has `3827.958` popularity and the Third Movie is `No Exit` which has `2618.087` popularity.\n",
    "\n",
    "---"
   ]
  },
  {
   "cell_type": "markdown",
   "id": "2cfee2de",
   "metadata": {},
   "source": [
    "---\n",
    "\n",
    "# __7.0 Summary__\n",
    "\n",
    "This Exploratory Data Analysis (EDA) project on the Netflix dataset aimed to uncover insights regarding the streaming platform's content, user engagement, and trends in film and television offerings. The dataset comprised approximately 9,827 entries with various features, including release dates, titles, popularity scores, vote counts, average votes, original language, genre, and more.\n",
    "\n",
    "### Key steps in the analysis included:\n",
    "\n",
    "1. __**Data Understanding**:__ An examination of the dataset's structure revealed the presence of 9 columns, with types such as strings, integers, and floats. Notably, there were no missing values, which facilitated a smoother analysis process.\n",
    "\n",
    "2. __**Data Cleaning**:__ Certain irrelevant columns were dropped (e.g., Overview, Poster URL) to focus on the core analysis. The 'Release_Date' column was transformed from a string to a datetime format to facilitate year-based analysis.\n",
    "\n",
    "3. __**Data Visualization**:__ Various visualization techniques were employed, including bar charts, scatter plots, and box plots, to illustrate trends and detect outliers.\n",
    "\n",
    "4. __**Key Findings**:__\n",
    "   - The most frequent genre on Netflix was **Drama**, followed by **Comedy** and **Action**.\n",
    "   - **Drama** also had the highest total vote count, indicating significant user engagement.\n",
    "   - The film with the highest popularity was **Spider-Man: No Way Home**, highlighting its commercial success.\n",
    "   - The year `2021` saw the most films released, suggesting a surge in content generation coinciding with global pandemic recovery efforts.\n",
    "   - The Most Popular Movies which are published in __English__ Langauge is __Spider man: No Way Home__ which has `5083.954` popularity and the Second Movie is __The Batman__ which has `3827.958` popularity and the Third Movie is __No Exit__ which has `2618.087` popularity.\n",
    "\n",
    "---\n",
    "\n",
    "# __8.0 Conclusions & Findings__\n",
    "\n",
    "The analysis of the Netflix dataset provided valuable insights into user preferences and content trends:\n",
    "\n",
    "- __**Genre Trends**:__ Drama remains the leading genre, reflecting viewer preferences for narrative depth and character development. This finding suggests that Netflix should continue investing in high-quality drama productions to meet audience expectations.\n",
    "\n",
    "- __**User Engagement**:__ The correlation between popularity and user votes indicates that engaging content tends to attract more viewers and receive higher ratings. This emphasizes the importance of quality storytelling and marketing.\n",
    "\n",
    "- __**Release Patterns**:__ The significant number of releases in 2021 could indicate a strategic response to increased demand for entertainment during and post-pandemic. Continuous monitoring of such trends will be crucial for future content planning.\n",
    "\n",
    "- __**Outlier Detection**:__ The presence of outliers in popularity and vote counts highlights the variability in audience reception. Future analyses should consider these outliers to understand what drives exceptional performance.\n",
    "\n",
    "__In conclusion__, this EDA project not only elucidated the current landscape of Netflix's offerings but also set the stage for future analyses that can guide content strategy and marketing efforts. By leveraging these insights, Netflix can enhance user satisfaction and optimize its content library for broader appeal."
   ]
  }
 ],
 "metadata": {
  "kernelspec": {
   "display_name": "DS_Env",
   "language": "python",
   "name": "python3"
  },
  "language_info": {
   "codemirror_mode": {
    "name": "ipython",
    "version": 3
   },
   "file_extension": ".py",
   "mimetype": "text/x-python",
   "name": "python",
   "nbconvert_exporter": "python",
   "pygments_lexer": "ipython3",
   "version": "3.13.2"
  }
 },
 "nbformat": 4,
 "nbformat_minor": 5
}
